{
 "cells": [
  {
   "cell_type": "code",
   "execution_count": 14,
   "metadata": {},
   "outputs": [],
   "source": [
    "from sympy import symbols, ln, sin, simplify, Matrix\n",
    "\n",
    "# Define symbols\n",
    "C_I, D_I, C_II, D_II, C_III, D_III, R_i, R_o, R_c, R_e, B_rem, p, θ, μ_r = symbols('C_I D_I C_II D_II C_III D_III R_i R_o R_c R_e B_rem p θ μ_r')\n",
    "\n",
    "p = 1\n",
    "\n",
    "lhs_expressions = [\n",
    "    [1,-1, 0, R_i**(-2), -R_i**2, 0],\n",
    "    [0, -1, 1, 0, -R_o**(-2), R_o**(-2)],\n",
    "    [R_i * μ_r, -R_i, 0, -R_c**(-2) * μ_r, R_i**(-2), 0],\n",
    "    [0, -R_o, R_o * μ_r, 0, R_o**(-2), -R_o**(-2) * μ_r],\n",
    "    [1, 0, 0, 0, 0, 0],\n",
    "    [0, 0, 1, 0, 0, 0]\n",
    "]\n",
    "\n",
    "# Define right-hand side expressions\n",
    "rhs_expressions = [[\n",
    "    -B_rem * ln(R_i),\n",
    "    -B_rem * ln(R_o),\n",
    "    -B_rem * (1 + ln(R_i) + sin(p * θ) / sin(θ)),\n",
    "    -B_rem * (1 + ln(R_o) + sin(p * θ) / sin(θ)),\n",
    "    D_I / R_c**2,\n",
    "    D_III / R_e**2\n",
    "]]\n",
    "\n",
    "# Convert expressions to matrices\n",
    "lhs_matrix = Matrix(lhs_expressions)\n",
    "rhs_matrix = Matrix(rhs_expressions)"
   ]
  },
  {
   "cell_type": "code",
   "execution_count": 15,
   "metadata": {},
   "outputs": [
    {
     "data": {
      "text/latex": [
       "$\\displaystyle \\left[\\begin{matrix}\\frac{D_{I}}{R_{c}^{2}}\\\\\\frac{B_{rem} R_{c}^{4} R_{e}^{2} R_{i}^{2} μ_{r} \\log{\\left(R_{i} \\right)} + 2 B_{rem} R_{c}^{4} R_{e}^{2} R_{i}^{2} μ_{r} - B_{rem} R_{c}^{4} R_{e}^{2} R_{i}^{2} \\log{\\left(R_{i} \\right)} - 2 B_{rem} R_{c}^{4} R_{e}^{2} R_{i}^{2} + B_{rem} R_{c}^{4} R_{e}^{2} R_{o}^{2} μ_{r} \\log{\\left(R_{o} \\right)} + B_{rem} R_{c}^{4} R_{e}^{2} R_{o}^{2} \\log{\\left(R_{o} \\right)} + 2 B_{rem} R_{c}^{4} R_{e}^{2} R_{o}^{2} - B_{rem} R_{c}^{2} R_{e}^{2} R_{i}^{6} R_{o}^{2} μ_{r}^{2} \\log{\\left(R_{o} \\right)} - B_{rem} R_{c}^{2} R_{e}^{2} R_{i}^{6} R_{o}^{2} μ_{r} \\log{\\left(R_{o} \\right)} - 2 B_{rem} R_{c}^{2} R_{e}^{2} R_{i}^{6} R_{o}^{2} μ_{r} + B_{rem} R_{c}^{2} R_{e}^{2} R_{i}^{4} μ_{r}^{2} \\log{\\left(R_{i} \\right)} - B_{rem} R_{c}^{2} R_{e}^{2} R_{i}^{4} μ_{r} \\log{\\left(R_{i} \\right)} + D_{I} R_{c}^{2} R_{e}^{2} R_{i}^{3} μ_{r}^{2} - D_{I} R_{c}^{2} R_{e}^{2} R_{i}^{3} μ_{r} + D_{I} R_{e}^{2} R_{i}^{4} μ_{r}^{2} - D_{I} R_{e}^{2} R_{i}^{4} μ_{r} + D_{III} R_{c}^{4} R_{o}^{3} μ_{r} + D_{III} R_{c}^{4} R_{o}^{2} μ_{r} - D_{III} R_{c}^{2} R_{i}^{6} R_{o}^{3} μ_{r}^{2} - D_{III} R_{c}^{2} R_{i}^{6} R_{o}^{2} μ_{r}^{2}}{R_{c}^{2} R_{e}^{2} \\left(R_{c}^{2} R_{i}^{3} μ_{r} - R_{c}^{2} R_{i}^{3} + R_{c}^{2} R_{o}^{3} + R_{c}^{2} R_{o}^{2} μ_{r} - R_{i}^{6} R_{o}^{3} μ_{r} - R_{i}^{6} R_{o}^{2} μ_{r}^{2} + R_{i}^{4} μ_{r}^{2} - R_{i}^{4} μ_{r}\\right)}\\\\\\frac{D_{III}}{R_{e}^{2}}\\\\\\frac{R_{i}^{2} \\left(B_{rem} R_{c}^{2} R_{e}^{2} R_{i}^{5} R_{o}^{2} μ_{r} \\log{\\left(R_{o} \\right)} + B_{rem} R_{c}^{2} R_{e}^{2} R_{i}^{5} R_{o}^{2} \\log{\\left(R_{o} \\right)} + 2 B_{rem} R_{c}^{2} R_{e}^{2} R_{i}^{5} R_{o}^{2} - B_{rem} R_{c}^{2} R_{e}^{2} R_{i}^{4} R_{o}^{3} \\log{\\left(R_{i} \\right)} - 2 B_{rem} R_{c}^{2} R_{e}^{2} R_{i}^{4} R_{o}^{3} - B_{rem} R_{c}^{2} R_{e}^{2} R_{i}^{4} R_{o}^{2} μ_{r} \\log{\\left(R_{i} \\right)} - 2 B_{rem} R_{c}^{2} R_{e}^{2} R_{i}^{4} R_{o}^{2} μ_{r} - B_{rem} R_{c}^{2} R_{e}^{2} R_{i}^{3} μ_{r} \\log{\\left(R_{i} \\right)} + B_{rem} R_{c}^{2} R_{e}^{2} R_{i}^{3} \\log{\\left(R_{i} \\right)} + B_{rem} R_{c}^{2} R_{e}^{2} R_{i}^{2} μ_{r} \\log{\\left(R_{i} \\right)} + 2 B_{rem} R_{c}^{2} R_{e}^{2} R_{i}^{2} μ_{r} - B_{rem} R_{c}^{2} R_{e}^{2} R_{i}^{2} \\log{\\left(R_{i} \\right)} - 2 B_{rem} R_{c}^{2} R_{e}^{2} R_{i}^{2} - B_{rem} R_{c}^{2} R_{e}^{2} R_{o}^{3} \\log{\\left(R_{i} \\right)} - B_{rem} R_{c}^{2} R_{e}^{2} R_{o}^{2} μ_{r} \\log{\\left(R_{i} \\right)} + B_{rem} R_{c}^{2} R_{e}^{2} R_{o}^{2} μ_{r} \\log{\\left(R_{o} \\right)} + B_{rem} R_{c}^{2} R_{e}^{2} R_{o}^{2} \\log{\\left(R_{o} \\right)} + 2 B_{rem} R_{c}^{2} R_{e}^{2} R_{o}^{2} - D_{I} R_{e}^{2} R_{i}^{5} R_{o}^{3} μ_{r} - D_{I} R_{e}^{2} R_{i}^{5} R_{o}^{2} μ_{r}^{2} + D_{I} R_{e}^{2} R_{i}^{3} μ_{r}^{2} - 2 D_{I} R_{e}^{2} R_{i}^{3} μ_{r} + D_{I} R_{e}^{2} R_{i}^{3} - D_{I} R_{e}^{2} R_{o}^{3} - D_{I} R_{e}^{2} R_{o}^{2} μ_{r} + D_{III} R_{c}^{2} R_{i}^{5} R_{o}^{3} μ_{r} + D_{III} R_{c}^{2} R_{i}^{5} R_{o}^{2} μ_{r} + D_{III} R_{c}^{2} R_{o}^{3} μ_{r} + D_{III} R_{c}^{2} R_{o}^{2} μ_{r}\\right)}{R_{e}^{2} \\left(R_{c}^{2} R_{i}^{3} μ_{r} - R_{c}^{2} R_{i}^{3} + R_{c}^{2} R_{o}^{3} + R_{c}^{2} R_{o}^{2} μ_{r} - R_{i}^{6} R_{o}^{3} μ_{r} - R_{i}^{6} R_{o}^{2} μ_{r}^{2} + R_{i}^{4} μ_{r}^{2} - R_{i}^{4} μ_{r}\\right)}\\\\\\frac{R_{i}^{2} R_{o}^{2} \\left(B_{rem} R_{c}^{4} R_{e}^{2} R_{i} μ_{r} \\log{\\left(R_{o} \\right)} + B_{rem} R_{c}^{4} R_{e}^{2} R_{i} \\log{\\left(R_{o} \\right)} + 2 B_{rem} R_{c}^{4} R_{e}^{2} R_{i} - B_{rem} R_{c}^{4} R_{e}^{2} R_{o} \\log{\\left(R_{i} \\right)} - 2 B_{rem} R_{c}^{4} R_{e}^{2} R_{o} - B_{rem} R_{c}^{4} R_{e}^{2} μ_{r} \\log{\\left(R_{i} \\right)} - 2 B_{rem} R_{c}^{4} R_{e}^{2} μ_{r} - B_{rem} R_{c}^{2} R_{e}^{2} R_{i}^{2} R_{o} μ_{r} \\log{\\left(R_{i} \\right)} - B_{rem} R_{c}^{2} R_{e}^{2} R_{i}^{2} μ_{r}^{2} \\log{\\left(R_{i} \\right)} + B_{rem} R_{c}^{2} R_{e}^{2} R_{i}^{2} μ_{r}^{2} \\log{\\left(R_{o} \\right)} + B_{rem} R_{c}^{2} R_{e}^{2} R_{i}^{2} μ_{r} \\log{\\left(R_{o} \\right)} + 2 B_{rem} R_{c}^{2} R_{e}^{2} R_{i}^{2} μ_{r} - D_{I} R_{c}^{2} R_{e}^{2} R_{i} R_{o} μ_{r} - D_{I} R_{c}^{2} R_{e}^{2} R_{i} μ_{r}^{2} - D_{I} R_{e}^{2} R_{i}^{2} R_{o} μ_{r} - D_{I} R_{e}^{2} R_{i}^{2} μ_{r}^{2} + D_{III} R_{c}^{4} R_{i} R_{o} μ_{r} + D_{III} R_{c}^{4} R_{i} μ_{r} + D_{III} R_{c}^{2} R_{i}^{2} R_{o} μ_{r}^{2} + D_{III} R_{c}^{2} R_{i}^{2} μ_{r}^{2}\\right)}{R_{c}^{2} R_{e}^{2} \\left(R_{c}^{2} R_{i}^{3} μ_{r} - R_{c}^{2} R_{i}^{3} + R_{c}^{2} R_{o}^{3} + R_{c}^{2} R_{o}^{2} μ_{r} - R_{i}^{6} R_{o}^{3} μ_{r} - R_{i}^{6} R_{o}^{2} μ_{r}^{2} + R_{i}^{4} μ_{r}^{2} - R_{i}^{4} μ_{r}\\right)}\\\\\\frac{R_{o}^{2} \\cdot \\left(2 B_{rem} R_{c}^{4} R_{e}^{2} R_{i}^{3} \\log{\\left(R_{o} \\right)} + 2 B_{rem} R_{c}^{4} R_{e}^{2} R_{i}^{3} - B_{rem} R_{c}^{4} R_{e}^{2} R_{i}^{2} R_{o} \\log{\\left(R_{i} \\right)} - 2 B_{rem} R_{c}^{4} R_{e}^{2} R_{i}^{2} R_{o} - B_{rem} R_{c}^{4} R_{e}^{2} R_{i}^{2} \\log{\\left(R_{i} \\right)} - 2 B_{rem} R_{c}^{4} R_{e}^{2} R_{i}^{2} - B_{rem} R_{c}^{4} R_{e}^{2} R_{o}^{3} \\log{\\left(R_{o} \\right)} + B_{rem} R_{c}^{4} R_{e}^{2} R_{o}^{2} \\log{\\left(R_{o} \\right)} + 2 B_{rem} R_{c}^{4} R_{e}^{2} R_{o}^{2} + B_{rem} R_{c}^{2} R_{e}^{2} R_{i}^{6} R_{o}^{3} μ_{r} \\log{\\left(R_{o} \\right)} - B_{rem} R_{c}^{2} R_{e}^{2} R_{i}^{6} R_{o}^{2} μ_{r} \\log{\\left(R_{o} \\right)} - 2 B_{rem} R_{c}^{2} R_{e}^{2} R_{i}^{6} R_{o}^{2} μ_{r} - B_{rem} R_{c}^{2} R_{e}^{2} R_{i}^{4} R_{o} μ_{r} \\log{\\left(R_{i} \\right)} - B_{rem} R_{c}^{2} R_{e}^{2} R_{i}^{4} μ_{r} \\log{\\left(R_{i} \\right)} + 2 B_{rem} R_{c}^{2} R_{e}^{2} R_{i}^{4} μ_{r} \\log{\\left(R_{o} \\right)} + 2 B_{rem} R_{c}^{2} R_{e}^{2} R_{i}^{4} μ_{r} - D_{I} R_{c}^{2} R_{e}^{2} R_{i}^{3} R_{o} μ_{r} - D_{I} R_{c}^{2} R_{e}^{2} R_{i}^{3} μ_{r} - D_{I} R_{e}^{2} R_{i}^{4} R_{o} μ_{r} - D_{I} R_{e}^{2} R_{i}^{4} μ_{r} + D_{III} R_{c}^{4} R_{i}^{3} R_{o} μ_{r} + D_{III} R_{c}^{4} R_{i}^{3} + D_{III} R_{c}^{4} R_{o}^{3} μ_{r} - D_{III} R_{c}^{4} R_{o}^{3} - D_{III} R_{c}^{2} R_{i}^{6} R_{o}^{3} μ_{r}^{2} + D_{III} R_{c}^{2} R_{i}^{6} R_{o}^{3} μ_{r} + D_{III} R_{c}^{2} R_{i}^{4} R_{o} μ_{r}^{2} + D_{III} R_{c}^{2} R_{i}^{4} μ_{r}\\right)}{R_{c}^{2} R_{e}^{2} \\left(R_{c}^{2} R_{i}^{3} μ_{r} - R_{c}^{2} R_{i}^{3} + R_{c}^{2} R_{o}^{3} + R_{c}^{2} R_{o}^{2} μ_{r} - R_{i}^{6} R_{o}^{3} μ_{r} - R_{i}^{6} R_{o}^{2} μ_{r}^{2} + R_{i}^{4} μ_{r}^{2} - R_{i}^{4} μ_{r}\\right)}\\end{matrix}\\right]$"
      ],
      "text/plain": [
       "Matrix([\n",
       "[                                                                                                                                                                                                                                                                                                                                                                                                                                                                                                                                                                                                                                                                                                                                                                                                                                                                                                                                                                                                                                                                                                                                                                                                                    D_I/R_c**2],\n",
       "[                                                                                                                                                                                                                                                                                                        (B_rem*R_c**4*R_e**2*R_i**2*μ_r*log(R_i) + 2*B_rem*R_c**4*R_e**2*R_i**2*μ_r - B_rem*R_c**4*R_e**2*R_i**2*log(R_i) - 2*B_rem*R_c**4*R_e**2*R_i**2 + B_rem*R_c**4*R_e**2*R_o**2*μ_r*log(R_o) + B_rem*R_c**4*R_e**2*R_o**2*log(R_o) + 2*B_rem*R_c**4*R_e**2*R_o**2 - B_rem*R_c**2*R_e**2*R_i**6*R_o**2*μ_r**2*log(R_o) - B_rem*R_c**2*R_e**2*R_i**6*R_o**2*μ_r*log(R_o) - 2*B_rem*R_c**2*R_e**2*R_i**6*R_o**2*μ_r + B_rem*R_c**2*R_e**2*R_i**4*μ_r**2*log(R_i) - B_rem*R_c**2*R_e**2*R_i**4*μ_r*log(R_i) + D_I*R_c**2*R_e**2*R_i**3*μ_r**2 - D_I*R_c**2*R_e**2*R_i**3*μ_r + D_I*R_e**2*R_i**4*μ_r**2 - D_I*R_e**2*R_i**4*μ_r + D_III*R_c**4*R_o**3*μ_r + D_III*R_c**4*R_o**2*μ_r - D_III*R_c**2*R_i**6*R_o**3*μ_r**2 - D_III*R_c**2*R_i**6*R_o**2*μ_r**2)/(R_c**2*R_e**2*(R_c**2*R_i**3*μ_r - R_c**2*R_i**3 + R_c**2*R_o**3 + R_c**2*R_o**2*μ_r - R_i**6*R_o**3*μ_r - R_i**6*R_o**2*μ_r**2 + R_i**4*μ_r**2 - R_i**4*μ_r))],\n",
       "[                                                                                                                                                                                                                                                                                                                                                                                                                                                                                                                                                                                                                                                                                                                                                                                                                                                                                                                                                                                                                                                                                                                                                                                                                  D_III/R_e**2],\n",
       "[R_i**2*(B_rem*R_c**2*R_e**2*R_i**5*R_o**2*μ_r*log(R_o) + B_rem*R_c**2*R_e**2*R_i**5*R_o**2*log(R_o) + 2*B_rem*R_c**2*R_e**2*R_i**5*R_o**2 - B_rem*R_c**2*R_e**2*R_i**4*R_o**3*log(R_i) - 2*B_rem*R_c**2*R_e**2*R_i**4*R_o**3 - B_rem*R_c**2*R_e**2*R_i**4*R_o**2*μ_r*log(R_i) - 2*B_rem*R_c**2*R_e**2*R_i**4*R_o**2*μ_r - B_rem*R_c**2*R_e**2*R_i**3*μ_r*log(R_i) + B_rem*R_c**2*R_e**2*R_i**3*log(R_i) + B_rem*R_c**2*R_e**2*R_i**2*μ_r*log(R_i) + 2*B_rem*R_c**2*R_e**2*R_i**2*μ_r - B_rem*R_c**2*R_e**2*R_i**2*log(R_i) - 2*B_rem*R_c**2*R_e**2*R_i**2 - B_rem*R_c**2*R_e**2*R_o**3*log(R_i) - B_rem*R_c**2*R_e**2*R_o**2*μ_r*log(R_i) + B_rem*R_c**2*R_e**2*R_o**2*μ_r*log(R_o) + B_rem*R_c**2*R_e**2*R_o**2*log(R_o) + 2*B_rem*R_c**2*R_e**2*R_o**2 - D_I*R_e**2*R_i**5*R_o**3*μ_r - D_I*R_e**2*R_i**5*R_o**2*μ_r**2 + D_I*R_e**2*R_i**3*μ_r**2 - 2*D_I*R_e**2*R_i**3*μ_r + D_I*R_e**2*R_i**3 - D_I*R_e**2*R_o**3 - D_I*R_e**2*R_o**2*μ_r + D_III*R_c**2*R_i**5*R_o**3*μ_r + D_III*R_c**2*R_i**5*R_o**2*μ_r + D_III*R_c**2*R_o**3*μ_r + D_III*R_c**2*R_o**2*μ_r)/(R_e**2*(R_c**2*R_i**3*μ_r - R_c**2*R_i**3 + R_c**2*R_o**3 + R_c**2*R_o**2*μ_r - R_i**6*R_o**3*μ_r - R_i**6*R_o**2*μ_r**2 + R_i**4*μ_r**2 - R_i**4*μ_r))],\n",
       "[                                                                                                                                                                                                                                                                                                                                                  R_i**2*R_o**2*(B_rem*R_c**4*R_e**2*R_i*μ_r*log(R_o) + B_rem*R_c**4*R_e**2*R_i*log(R_o) + 2*B_rem*R_c**4*R_e**2*R_i - B_rem*R_c**4*R_e**2*R_o*log(R_i) - 2*B_rem*R_c**4*R_e**2*R_o - B_rem*R_c**4*R_e**2*μ_r*log(R_i) - 2*B_rem*R_c**4*R_e**2*μ_r - B_rem*R_c**2*R_e**2*R_i**2*R_o*μ_r*log(R_i) - B_rem*R_c**2*R_e**2*R_i**2*μ_r**2*log(R_i) + B_rem*R_c**2*R_e**2*R_i**2*μ_r**2*log(R_o) + B_rem*R_c**2*R_e**2*R_i**2*μ_r*log(R_o) + 2*B_rem*R_c**2*R_e**2*R_i**2*μ_r - D_I*R_c**2*R_e**2*R_i*R_o*μ_r - D_I*R_c**2*R_e**2*R_i*μ_r**2 - D_I*R_e**2*R_i**2*R_o*μ_r - D_I*R_e**2*R_i**2*μ_r**2 + D_III*R_c**4*R_i*R_o*μ_r + D_III*R_c**4*R_i*μ_r + D_III*R_c**2*R_i**2*R_o*μ_r**2 + D_III*R_c**2*R_i**2*μ_r**2)/(R_c**2*R_e**2*(R_c**2*R_i**3*μ_r - R_c**2*R_i**3 + R_c**2*R_o**3 + R_c**2*R_o**2*μ_r - R_i**6*R_o**3*μ_r - R_i**6*R_o**2*μ_r**2 + R_i**4*μ_r**2 - R_i**4*μ_r))],\n",
       "[                                       R_o**2*(2*B_rem*R_c**4*R_e**2*R_i**3*log(R_o) + 2*B_rem*R_c**4*R_e**2*R_i**3 - B_rem*R_c**4*R_e**2*R_i**2*R_o*log(R_i) - 2*B_rem*R_c**4*R_e**2*R_i**2*R_o - B_rem*R_c**4*R_e**2*R_i**2*log(R_i) - 2*B_rem*R_c**4*R_e**2*R_i**2 - B_rem*R_c**4*R_e**2*R_o**3*log(R_o) + B_rem*R_c**4*R_e**2*R_o**2*log(R_o) + 2*B_rem*R_c**4*R_e**2*R_o**2 + B_rem*R_c**2*R_e**2*R_i**6*R_o**3*μ_r*log(R_o) - B_rem*R_c**2*R_e**2*R_i**6*R_o**2*μ_r*log(R_o) - 2*B_rem*R_c**2*R_e**2*R_i**6*R_o**2*μ_r - B_rem*R_c**2*R_e**2*R_i**4*R_o*μ_r*log(R_i) - B_rem*R_c**2*R_e**2*R_i**4*μ_r*log(R_i) + 2*B_rem*R_c**2*R_e**2*R_i**4*μ_r*log(R_o) + 2*B_rem*R_c**2*R_e**2*R_i**4*μ_r - D_I*R_c**2*R_e**2*R_i**3*R_o*μ_r - D_I*R_c**2*R_e**2*R_i**3*μ_r - D_I*R_e**2*R_i**4*R_o*μ_r - D_I*R_e**2*R_i**4*μ_r + D_III*R_c**4*R_i**3*R_o*μ_r + D_III*R_c**4*R_i**3 + D_III*R_c**4*R_o**3*μ_r - D_III*R_c**4*R_o**3 - D_III*R_c**2*R_i**6*R_o**3*μ_r**2 + D_III*R_c**2*R_i**6*R_o**3*μ_r + D_III*R_c**2*R_i**4*R_o*μ_r**2 + D_III*R_c**2*R_i**4*μ_r)/(R_c**2*R_e**2*(R_c**2*R_i**3*μ_r - R_c**2*R_i**3 + R_c**2*R_o**3 + R_c**2*R_o**2*μ_r - R_i**6*R_o**3*μ_r - R_i**6*R_o**2*μ_r**2 + R_i**4*μ_r**2 - R_i**4*μ_r))]])"
      ]
     },
     "execution_count": 15,
     "metadata": {},
     "output_type": "execute_result"
    }
   ],
   "source": [
    "# Solve the matrices for the vector of constants. Takes around 100s.\n",
    "solution = simplify(lhs_matrix.solve(rhs_matrix.T))\n",
    "solution\n"
   ]
  },
  {
   "cell_type": "code",
   "execution_count": 16,
   "metadata": {},
   "outputs": [
    {
     "data": {
      "text/plain": [
       "False"
      ]
     },
     "execution_count": 16,
     "metadata": {},
     "output_type": "execute_result"
    }
   ],
   "source": [
    "# check if our solution satisfies the whole equation\n",
    "simplify(lhs_matrix*solution) == rhs_matrix.T"
   ]
  },
  {
   "cell_type": "code",
   "execution_count": 17,
   "metadata": {},
   "outputs": [],
   "source": [
    "#Solutions to check\n",
    "a = ( R_e**2 -R_o**2 ) / (R_e**2 + R_o**2)\n",
    "b = -( R_i**2 -R_c**2 ) / (R_i**2 + R_c**2)\n",
    "\n",
    "D_II = - ( (a * µ_r - 1)/(a * µ_r + 1) * R_o**(-2) - (b * µ_r - 1)/(b * µ_r + 1) *R_i**(-2) )**(-1) * (B_rem * ln(R_i/R_o))\n",
    "C_I = (D_II)/(R_i**2 + R_c**2) * ( 1 - (b * µ_r - 1) / (b * µ_r + 1) )\n",
    "D_I = C_I * R_c**2\n",
    "C_II = -D_II * ((a * µ_r - 1)/(a * µ_r + 1)) * R_o**(-2) + B_rem * ln(R_o)\n",
    "C_III = D_II / (R_o**2 + R_e**2) * (1- (a * µ_r - 1)/(a * µ_r + 1))\n",
    "D_III = C_III * R_e**2\n"
   ]
  },
  {
   "cell_type": "code",
   "execution_count": 18,
   "metadata": {},
   "outputs": [
    {
     "data": {
      "text/plain": [
       "(False, False, False, False, False, False)"
      ]
     },
     "execution_count": 18,
     "metadata": {},
     "output_type": "execute_result"
    }
   ],
   "source": [
    "solution[0] == C_I, solution[1] == C_II, solution[2] == C_III, solution[3] == D_I, solution[4] == D_II, solution[5] == D_III"
   ]
  },
  {
   "cell_type": "code",
   "execution_count": 21,
   "metadata": {},
   "outputs": [
    {
     "data": {
      "text/latex": [
       "$\\displaystyle - \\frac{B_{rem} \\left(- \\frac{\\frac{μ_{r} \\left(R_{c}^{2} - R_{i}^{2}\\right)}{R_{c}^{2} + R_{i}^{2}} - 1}{\\frac{μ_{r} \\left(R_{c}^{2} - R_{i}^{2}\\right)}{R_{c}^{2} + R_{i}^{2}} + 1} + 1\\right) \\log{\\left(\\frac{R_{i}}{R_{o}} \\right)}}{\\left(R_{c}^{2} + R_{i}^{2}\\right) \\left(\\frac{\\frac{μ_{r} \\left(R_{e}^{2} - R_{o}^{2}\\right)}{R_{e}^{2} + R_{o}^{2}} - 1}{R_{o}^{2} \\left(\\frac{μ_{r} \\left(R_{e}^{2} - R_{o}^{2}\\right)}{R_{e}^{2} + R_{o}^{2}} + 1\\right)} - \\frac{\\frac{μ_{r} \\left(R_{c}^{2} - R_{i}^{2}\\right)}{R_{c}^{2} + R_{i}^{2}} - 1}{R_{i}^{2} \\left(\\frac{μ_{r} \\left(R_{c}^{2} - R_{i}^{2}\\right)}{R_{c}^{2} + R_{i}^{2}} + 1\\right)}\\right)}$"
      ],
      "text/plain": [
       "-B_rem*(-(μ_r*(R_c**2 - R_i**2)/(R_c**2 + R_i**2) - 1)/(μ_r*(R_c**2 - R_i**2)/(R_c**2 + R_i**2) + 1) + 1)*log(R_i/R_o)/((R_c**2 + R_i**2)*((μ_r*(R_e**2 - R_o**2)/(R_e**2 + R_o**2) - 1)/(R_o**2*(μ_r*(R_e**2 - R_o**2)/(R_e**2 + R_o**2) + 1)) - (μ_r*(R_c**2 - R_i**2)/(R_c**2 + R_i**2) - 1)/(R_i**2*(μ_r*(R_c**2 - R_i**2)/(R_c**2 + R_i**2) + 1))))"
      ]
     },
     "execution_count": 21,
     "metadata": {},
     "output_type": "execute_result"
    }
   ],
   "source": [
    "C_I"
   ]
  },
  {
   "cell_type": "code",
   "execution_count": null,
   "metadata": {},
   "outputs": [],
   "source": []
  }
 ],
 "metadata": {
  "kernelspec": {
   "display_name": "Python 3",
   "language": "python",
   "name": "python3"
  },
  "language_info": {
   "codemirror_mode": {
    "name": "ipython",
    "version": 3
   },
   "file_extension": ".py",
   "mimetype": "text/x-python",
   "name": "python",
   "nbconvert_exporter": "python",
   "pygments_lexer": "ipython3",
   "version": "3.11.9"
  }
 },
 "nbformat": 4,
 "nbformat_minor": 2
}
