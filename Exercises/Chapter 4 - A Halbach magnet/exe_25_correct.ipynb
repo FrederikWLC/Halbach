{
 "cells": [
  {
   "cell_type": "code",
   "execution_count": 1,
   "metadata": {},
   "outputs": [],
   "source": [
    "from sympy import symbols, ln, sin, simplify, Matrix\n",
    "\n",
    "# Define symbols\n",
    "R_i, R_o, R_c, R_e, B_rem, p, θ, μ_r = symbols('R_i R_o R_c R_e B_rem p θ μ_r', real=True, positive=True)\n",
    "\n",
    "\n",
    "lhs_matrix = Matrix([\n",
    "    [1,-1, 0, R_i**(-2), -R_i**(-2), 0],\n",
    "    [0, -1, 1, 0, -R_o**(-2), R_o**(-2)],\n",
    "    [μ_r, -1, 0, -R_i**(-2) * μ_r, R_i**(-2), 0],\n",
    "    [0, -1, μ_r, 0, R_o**(-2), -R_o**(-2) * μ_r],\n",
    "    [1, 0, 0, -R_c**(-2), 0, 0],\n",
    "    [0, 0, 1, 0, 0, -R_e**(-2)]\n",
    "])\n",
    "\n",
    "# Define right-hand side expressions\n",
    "rhs_matrix = Matrix([\n",
    "    -B_rem * ln(R_i),\n",
    "    -B_rem * ln(R_o),\n",
    "    -B_rem * (1+ ln(R_i) - sin(p * θ)/sin(θ)),\n",
    "    -B_rem * (1+ ln(R_o) - sin(p * θ)/sin(θ)),\n",
    "    0,\n",
    "    0\n",
    "])\n"
   ]
  },
  {
   "cell_type": "code",
   "execution_count": 2,
   "metadata": {},
   "outputs": [],
   "source": [
    "solution = simplify(lhs_matrix.solve(rhs_matrix))"
   ]
  },
  {
   "cell_type": "code",
   "execution_count": 3,
   "metadata": {},
   "outputs": [
    {
     "data": {
      "text/latex": [
       "$\\displaystyle \\left[\\begin{matrix}\\frac{B_{rem} R_{i}^{2} \\left(R_{e}^{2} R_{i}^{2} μ_{r} - \\frac{R_{e}^{2} R_{i}^{2} μ_{r} \\sin{\\left(p θ \\right)}}{\\sin{\\left(θ \\right)}} - R_{e}^{2} R_{i}^{2} + \\frac{R_{e}^{2} R_{i}^{2} \\sin{\\left(p θ \\right)}}{\\sin{\\left(θ \\right)}} - R_{e}^{2} R_{o}^{2} μ_{r} + \\frac{R_{e}^{2} R_{o}^{2} μ_{r} \\sin{\\left(p θ \\right)}}{\\sin{\\left(θ \\right)}} + R_{e}^{2} R_{o}^{2} - \\frac{R_{e}^{2} R_{o}^{2} \\sin{\\left(p θ \\right)}}{\\sin{\\left(θ \\right)}} - R_{i}^{2} R_{o}^{2} μ_{r} + \\frac{R_{i}^{2} R_{o}^{2} μ_{r} \\sin{\\left(p θ \\right)}}{\\sin{\\left(θ \\right)}} - R_{i}^{2} R_{o}^{2} + \\frac{R_{i}^{2} R_{o}^{2} \\sin{\\left(p θ \\right)}}{\\sin{\\left(θ \\right)}} + R_{o}^{4} μ_{r} - \\frac{R_{o}^{4} μ_{r} \\sin{\\left(p θ \\right)}}{\\sin{\\left(θ \\right)}} + R_{o}^{4} - \\frac{R_{o}^{4} \\sin{\\left(p θ \\right)}}{\\sin{\\left(θ \\right)}} + \\log{\\left(R_{i}^{2 R_{o}^{2} \\left(- R_{e}^{2} μ_{r} - R_{e}^{2} + R_{o}^{2} μ_{r} - R_{o}^{2}\\right)} R_{o}^{2 R_{o}^{2} \\left(R_{e}^{2} μ_{r} + R_{e}^{2} - R_{o}^{2} μ_{r} + R_{o}^{2}\\right)} \\right)}\\right)}{R_{c}^{2} R_{e}^{2} R_{i}^{2} μ_{r}^{2} - R_{c}^{2} R_{e}^{2} R_{i}^{2} - R_{c}^{2} R_{e}^{2} R_{o}^{2} μ_{r}^{2} + R_{c}^{2} R_{e}^{2} R_{o}^{2} - R_{c}^{2} R_{i}^{2} R_{o}^{2} μ_{r}^{2} - 2 R_{c}^{2} R_{i}^{2} R_{o}^{2} μ_{r} - R_{c}^{2} R_{i}^{2} R_{o}^{2} + R_{c}^{2} R_{o}^{4} μ_{r}^{2} - 2 R_{c}^{2} R_{o}^{4} μ_{r} + R_{c}^{2} R_{o}^{4} - R_{e}^{2} R_{i}^{4} μ_{r}^{2} + 2 R_{e}^{2} R_{i}^{4} μ_{r} - R_{e}^{2} R_{i}^{4} + R_{e}^{2} R_{i}^{2} R_{o}^{2} μ_{r}^{2} + 2 R_{e}^{2} R_{i}^{2} R_{o}^{2} μ_{r} + R_{e}^{2} R_{i}^{2} R_{o}^{2} + R_{i}^{4} R_{o}^{2} μ_{r}^{2} - R_{i}^{4} R_{o}^{2} - R_{i}^{2} R_{o}^{4} μ_{r}^{2} + R_{i}^{2} R_{o}^{4}}\\\\\\frac{B_{rem} \\left(R_{c}^{2} R_{e}^{2} R_{i}^{2} μ_{r} - \\frac{R_{c}^{2} R_{e}^{2} R_{i}^{2} μ_{r} \\sin{\\left(p θ \\right)}}{\\sin{\\left(θ \\right)}} - R_{c}^{2} R_{e}^{2} R_{i}^{2} + \\frac{R_{c}^{2} R_{e}^{2} R_{i}^{2} \\sin{\\left(p θ \\right)}}{\\sin{\\left(θ \\right)}} - R_{c}^{2} R_{e}^{2} R_{o}^{2} μ_{r} + \\frac{R_{c}^{2} R_{e}^{2} R_{o}^{2} μ_{r} \\sin{\\left(p θ \\right)}}{\\sin{\\left(θ \\right)}} + R_{c}^{2} R_{e}^{2} R_{o}^{2} - \\frac{R_{c}^{2} R_{e}^{2} R_{o}^{2} \\sin{\\left(p θ \\right)}}{\\sin{\\left(θ \\right)}} - R_{c}^{2} R_{i}^{2} R_{o}^{2} μ_{r} + \\frac{R_{c}^{2} R_{i}^{2} R_{o}^{2} μ_{r} \\sin{\\left(p θ \\right)}}{\\sin{\\left(θ \\right)}} - R_{c}^{2} R_{i}^{2} R_{o}^{2} + \\frac{R_{c}^{2} R_{i}^{2} R_{o}^{2} \\sin{\\left(p θ \\right)}}{\\sin{\\left(θ \\right)}} - R_{c}^{2} R_{o}^{4} μ_{r} + \\frac{R_{c}^{2} R_{o}^{4} μ_{r} \\sin{\\left(p θ \\right)}}{\\sin{\\left(θ \\right)}} + R_{c}^{2} R_{o}^{4} - \\frac{R_{c}^{2} R_{o}^{4} \\sin{\\left(p θ \\right)}}{\\sin{\\left(θ \\right)}} + R_{e}^{2} R_{i}^{4} μ_{r} - \\frac{R_{e}^{2} R_{i}^{4} μ_{r} \\sin{\\left(p θ \\right)}}{\\sin{\\left(θ \\right)}} - R_{e}^{2} R_{i}^{4} + \\frac{R_{e}^{2} R_{i}^{4} \\sin{\\left(p θ \\right)}}{\\sin{\\left(θ \\right)}} + R_{e}^{2} R_{i}^{2} R_{o}^{2} μ_{r} - \\frac{R_{e}^{2} R_{i}^{2} R_{o}^{2} μ_{r} \\sin{\\left(p θ \\right)}}{\\sin{\\left(θ \\right)}} + R_{e}^{2} R_{i}^{2} R_{o}^{2} - \\frac{R_{e}^{2} R_{i}^{2} R_{o}^{2} \\sin{\\left(p θ \\right)}}{\\sin{\\left(θ \\right)}} - R_{i}^{4} R_{o}^{2} μ_{r} + \\frac{R_{i}^{4} R_{o}^{2} μ_{r} \\sin{\\left(p θ \\right)}}{\\sin{\\left(θ \\right)}} - R_{i}^{4} R_{o}^{2} + \\frac{R_{i}^{4} R_{o}^{2} \\sin{\\left(p θ \\right)}}{\\sin{\\left(θ \\right)}} + R_{i}^{2} R_{o}^{4} μ_{r} - \\frac{R_{i}^{2} R_{o}^{4} μ_{r} \\sin{\\left(p θ \\right)}}{\\sin{\\left(θ \\right)}} + R_{i}^{2} R_{o}^{4} - \\frac{R_{i}^{2} R_{o}^{4} \\sin{\\left(p θ \\right)}}{\\sin{\\left(θ \\right)}} + \\log{\\left(R_{i}^{R_{i}^{2} \\left(R_{c}^{2} R_{e}^{2} μ_{r}^{2} - R_{c}^{2} R_{e}^{2} - R_{c}^{2} R_{o}^{2} μ_{r}^{2} - 2 R_{c}^{2} R_{o}^{2} μ_{r} - R_{c}^{2} R_{o}^{2} - R_{e}^{2} R_{i}^{2} μ_{r}^{2} + 2 R_{e}^{2} R_{i}^{2} μ_{r} - R_{e}^{2} R_{i}^{2} + R_{i}^{2} R_{o}^{2} μ_{r}^{2} - R_{i}^{2} R_{o}^{2}\\right)} R_{o}^{R_{o}^{2} \\left(- R_{c}^{2} R_{e}^{2} μ_{r}^{2} + R_{c}^{2} R_{e}^{2} + R_{c}^{2} R_{o}^{2} μ_{r}^{2} - 2 R_{c}^{2} R_{o}^{2} μ_{r} + R_{c}^{2} R_{o}^{2} + R_{e}^{2} R_{i}^{2} μ_{r}^{2} + 2 R_{e}^{2} R_{i}^{2} μ_{r} + R_{e}^{2} R_{i}^{2} - R_{i}^{2} R_{o}^{2} μ_{r}^{2} + R_{i}^{2} R_{o}^{2}\\right)} \\right)}\\right)}{R_{c}^{2} R_{e}^{2} R_{i}^{2} μ_{r}^{2} - R_{c}^{2} R_{e}^{2} R_{i}^{2} - R_{c}^{2} R_{e}^{2} R_{o}^{2} μ_{r}^{2} + R_{c}^{2} R_{e}^{2} R_{o}^{2} - R_{c}^{2} R_{i}^{2} R_{o}^{2} μ_{r}^{2} - 2 R_{c}^{2} R_{i}^{2} R_{o}^{2} μ_{r} - R_{c}^{2} R_{i}^{2} R_{o}^{2} + R_{c}^{2} R_{o}^{4} μ_{r}^{2} - 2 R_{c}^{2} R_{o}^{4} μ_{r} + R_{c}^{2} R_{o}^{4} - R_{e}^{2} R_{i}^{4} μ_{r}^{2} + 2 R_{e}^{2} R_{i}^{4} μ_{r} - R_{e}^{2} R_{i}^{4} + R_{e}^{2} R_{i}^{2} R_{o}^{2} μ_{r}^{2} + 2 R_{e}^{2} R_{i}^{2} R_{o}^{2} μ_{r} + R_{e}^{2} R_{i}^{2} R_{o}^{2} + R_{i}^{4} R_{o}^{2} μ_{r}^{2} - R_{i}^{4} R_{o}^{2} - R_{i}^{2} R_{o}^{4} μ_{r}^{2} + R_{i}^{2} R_{o}^{4}}\\\\\\frac{B_{rem} R_{o}^{2} \\left(R_{c}^{2} R_{i}^{2} μ_{r} - \\frac{R_{c}^{2} R_{i}^{2} μ_{r} \\sin{\\left(p θ \\right)}}{\\sin{\\left(θ \\right)}} - R_{c}^{2} R_{i}^{2} + \\frac{R_{c}^{2} R_{i}^{2} \\sin{\\left(p θ \\right)}}{\\sin{\\left(θ \\right)}} - R_{c}^{2} R_{o}^{2} μ_{r} + \\frac{R_{c}^{2} R_{o}^{2} μ_{r} \\sin{\\left(p θ \\right)}}{\\sin{\\left(θ \\right)}} + R_{c}^{2} R_{o}^{2} - \\frac{R_{c}^{2} R_{o}^{2} \\sin{\\left(p θ \\right)}}{\\sin{\\left(θ \\right)}} - R_{i}^{4} μ_{r} + \\frac{R_{i}^{4} μ_{r} \\sin{\\left(p θ \\right)}}{\\sin{\\left(θ \\right)}} - R_{i}^{4} + \\frac{R_{i}^{4} \\sin{\\left(p θ \\right)}}{\\sin{\\left(θ \\right)}} + R_{i}^{2} R_{o}^{2} μ_{r} - \\frac{R_{i}^{2} R_{o}^{2} μ_{r} \\sin{\\left(p θ \\right)}}{\\sin{\\left(θ \\right)}} + R_{i}^{2} R_{o}^{2} - \\frac{R_{i}^{2} R_{o}^{2} \\sin{\\left(p θ \\right)}}{\\sin{\\left(θ \\right)}} + \\log{\\left(R_{i}^{2 R_{i}^{2} \\left(- R_{c}^{2} μ_{r} - R_{c}^{2} + R_{i}^{2} μ_{r} - R_{i}^{2}\\right)} R_{o}^{2 R_{i}^{2} \\left(R_{c}^{2} μ_{r} + R_{c}^{2} - R_{i}^{2} μ_{r} + R_{i}^{2}\\right)} \\right)}\\right)}{R_{c}^{2} R_{e}^{2} R_{i}^{2} μ_{r}^{2} - R_{c}^{2} R_{e}^{2} R_{i}^{2} - R_{c}^{2} R_{e}^{2} R_{o}^{2} μ_{r}^{2} + R_{c}^{2} R_{e}^{2} R_{o}^{2} - R_{c}^{2} R_{i}^{2} R_{o}^{2} μ_{r}^{2} - 2 R_{c}^{2} R_{i}^{2} R_{o}^{2} μ_{r} - R_{c}^{2} R_{i}^{2} R_{o}^{2} + R_{c}^{2} R_{o}^{4} μ_{r}^{2} - 2 R_{c}^{2} R_{o}^{4} μ_{r} + R_{c}^{2} R_{o}^{4} - R_{e}^{2} R_{i}^{4} μ_{r}^{2} + 2 R_{e}^{2} R_{i}^{4} μ_{r} - R_{e}^{2} R_{i}^{4} + R_{e}^{2} R_{i}^{2} R_{o}^{2} μ_{r}^{2} + 2 R_{e}^{2} R_{i}^{2} R_{o}^{2} μ_{r} + R_{e}^{2} R_{i}^{2} R_{o}^{2} + R_{i}^{4} R_{o}^{2} μ_{r}^{2} - R_{i}^{4} R_{o}^{2} - R_{i}^{2} R_{o}^{4} μ_{r}^{2} + R_{i}^{2} R_{o}^{4}}\\\\\\frac{B_{rem} R_{c}^{2} R_{i}^{2} \\left(R_{e}^{2} R_{i}^{2} μ_{r} - \\frac{R_{e}^{2} R_{i}^{2} μ_{r} \\sin{\\left(p θ \\right)}}{\\sin{\\left(θ \\right)}} - R_{e}^{2} R_{i}^{2} + \\frac{R_{e}^{2} R_{i}^{2} \\sin{\\left(p θ \\right)}}{\\sin{\\left(θ \\right)}} - R_{e}^{2} R_{o}^{2} μ_{r} + \\frac{R_{e}^{2} R_{o}^{2} μ_{r} \\sin{\\left(p θ \\right)}}{\\sin{\\left(θ \\right)}} + R_{e}^{2} R_{o}^{2} - \\frac{R_{e}^{2} R_{o}^{2} \\sin{\\left(p θ \\right)}}{\\sin{\\left(θ \\right)}} - R_{i}^{2} R_{o}^{2} μ_{r} + \\frac{R_{i}^{2} R_{o}^{2} μ_{r} \\sin{\\left(p θ \\right)}}{\\sin{\\left(θ \\right)}} - R_{i}^{2} R_{o}^{2} + \\frac{R_{i}^{2} R_{o}^{2} \\sin{\\left(p θ \\right)}}{\\sin{\\left(θ \\right)}} + R_{o}^{4} μ_{r} - \\frac{R_{o}^{4} μ_{r} \\sin{\\left(p θ \\right)}}{\\sin{\\left(θ \\right)}} + R_{o}^{4} - \\frac{R_{o}^{4} \\sin{\\left(p θ \\right)}}{\\sin{\\left(θ \\right)}} + \\log{\\left(R_{i}^{2 R_{o}^{2} \\left(- R_{e}^{2} μ_{r} - R_{e}^{2} + R_{o}^{2} μ_{r} - R_{o}^{2}\\right)} R_{o}^{2 R_{o}^{2} \\left(R_{e}^{2} μ_{r} + R_{e}^{2} - R_{o}^{2} μ_{r} + R_{o}^{2}\\right)} \\right)}\\right)}{R_{c}^{2} R_{e}^{2} R_{i}^{2} μ_{r}^{2} - R_{c}^{2} R_{e}^{2} R_{i}^{2} - R_{c}^{2} R_{e}^{2} R_{o}^{2} μ_{r}^{2} + R_{c}^{2} R_{e}^{2} R_{o}^{2} - R_{c}^{2} R_{i}^{2} R_{o}^{2} μ_{r}^{2} - 2 R_{c}^{2} R_{i}^{2} R_{o}^{2} μ_{r} - R_{c}^{2} R_{i}^{2} R_{o}^{2} + R_{c}^{2} R_{o}^{4} μ_{r}^{2} - 2 R_{c}^{2} R_{o}^{4} μ_{r} + R_{c}^{2} R_{o}^{4} - R_{e}^{2} R_{i}^{4} μ_{r}^{2} + 2 R_{e}^{2} R_{i}^{4} μ_{r} - R_{e}^{2} R_{i}^{4} + R_{e}^{2} R_{i}^{2} R_{o}^{2} μ_{r}^{2} + 2 R_{e}^{2} R_{i}^{2} R_{o}^{2} μ_{r} + R_{e}^{2} R_{i}^{2} R_{o}^{2} + R_{i}^{4} R_{o}^{2} μ_{r}^{2} - R_{i}^{4} R_{o}^{2} - R_{i}^{2} R_{o}^{4} μ_{r}^{2} + R_{i}^{2} R_{o}^{4}}\\\\\\frac{B_{rem} R_{i}^{2} R_{o}^{2} \\cdot \\left(2 R_{c}^{2} R_{o}^{2} μ_{r} - \\frac{2 R_{c}^{2} R_{o}^{2} μ_{r} \\sin{\\left(p θ \\right)}}{\\sin{\\left(θ \\right)}} - 2 R_{e}^{2} R_{i}^{2} μ_{r} + \\frac{2 R_{e}^{2} R_{i}^{2} μ_{r} \\sin{\\left(p θ \\right)}}{\\sin{\\left(θ \\right)}} + \\log{\\left(R_{i}^{- R_{c}^{2} R_{e}^{2} μ_{r}^{2} - 2 R_{c}^{2} R_{e}^{2} μ_{r} - R_{c}^{2} R_{e}^{2} + R_{c}^{2} R_{o}^{2} μ_{r}^{2} - R_{c}^{2} R_{o}^{2} + R_{e}^{2} R_{i}^{2} μ_{r}^{2} - R_{e}^{2} R_{i}^{2} - R_{i}^{2} R_{o}^{2} μ_{r}^{2} + 2 R_{i}^{2} R_{o}^{2} μ_{r} - R_{i}^{2} R_{o}^{2}} R_{o}^{R_{c}^{2} R_{e}^{2} μ_{r}^{2} + 2 R_{c}^{2} R_{e}^{2} μ_{r} + R_{c}^{2} R_{e}^{2} - R_{c}^{2} R_{o}^{2} μ_{r}^{2} + R_{c}^{2} R_{o}^{2} - R_{e}^{2} R_{i}^{2} μ_{r}^{2} + R_{e}^{2} R_{i}^{2} + R_{i}^{2} R_{o}^{2} μ_{r}^{2} - 2 R_{i}^{2} R_{o}^{2} μ_{r} + R_{i}^{2} R_{o}^{2}} \\right)}\\right)}{R_{c}^{2} R_{e}^{2} R_{i}^{2} μ_{r}^{2} - R_{c}^{2} R_{e}^{2} R_{i}^{2} - R_{c}^{2} R_{e}^{2} R_{o}^{2} μ_{r}^{2} + R_{c}^{2} R_{e}^{2} R_{o}^{2} - R_{c}^{2} R_{i}^{2} R_{o}^{2} μ_{r}^{2} - 2 R_{c}^{2} R_{i}^{2} R_{o}^{2} μ_{r} - R_{c}^{2} R_{i}^{2} R_{o}^{2} + R_{c}^{2} R_{o}^{4} μ_{r}^{2} - 2 R_{c}^{2} R_{o}^{4} μ_{r} + R_{c}^{2} R_{o}^{4} - R_{e}^{2} R_{i}^{4} μ_{r}^{2} + 2 R_{e}^{2} R_{i}^{4} μ_{r} - R_{e}^{2} R_{i}^{4} + R_{e}^{2} R_{i}^{2} R_{o}^{2} μ_{r}^{2} + 2 R_{e}^{2} R_{i}^{2} R_{o}^{2} μ_{r} + R_{e}^{2} R_{i}^{2} R_{o}^{2} + R_{i}^{4} R_{o}^{2} μ_{r}^{2} - R_{i}^{4} R_{o}^{2} - R_{i}^{2} R_{o}^{4} μ_{r}^{2} + R_{i}^{2} R_{o}^{4}}\\\\\\frac{B_{rem} R_{e}^{2} R_{o}^{2} \\left(R_{c}^{2} R_{i}^{2} μ_{r} - \\frac{R_{c}^{2} R_{i}^{2} μ_{r} \\sin{\\left(p θ \\right)}}{\\sin{\\left(θ \\right)}} - R_{c}^{2} R_{i}^{2} + \\frac{R_{c}^{2} R_{i}^{2} \\sin{\\left(p θ \\right)}}{\\sin{\\left(θ \\right)}} - R_{c}^{2} R_{o}^{2} μ_{r} + \\frac{R_{c}^{2} R_{o}^{2} μ_{r} \\sin{\\left(p θ \\right)}}{\\sin{\\left(θ \\right)}} + R_{c}^{2} R_{o}^{2} - \\frac{R_{c}^{2} R_{o}^{2} \\sin{\\left(p θ \\right)}}{\\sin{\\left(θ \\right)}} - R_{i}^{4} μ_{r} + \\frac{R_{i}^{4} μ_{r} \\sin{\\left(p θ \\right)}}{\\sin{\\left(θ \\right)}} - R_{i}^{4} + \\frac{R_{i}^{4} \\sin{\\left(p θ \\right)}}{\\sin{\\left(θ \\right)}} + R_{i}^{2} R_{o}^{2} μ_{r} - \\frac{R_{i}^{2} R_{o}^{2} μ_{r} \\sin{\\left(p θ \\right)}}{\\sin{\\left(θ \\right)}} + R_{i}^{2} R_{o}^{2} - \\frac{R_{i}^{2} R_{o}^{2} \\sin{\\left(p θ \\right)}}{\\sin{\\left(θ \\right)}} + \\log{\\left(R_{i}^{2 R_{i}^{2} \\left(- R_{c}^{2} μ_{r} - R_{c}^{2} + R_{i}^{2} μ_{r} - R_{i}^{2}\\right)} R_{o}^{2 R_{i}^{2} \\left(R_{c}^{2} μ_{r} + R_{c}^{2} - R_{i}^{2} μ_{r} + R_{i}^{2}\\right)} \\right)}\\right)}{R_{c}^{2} R_{e}^{2} R_{i}^{2} μ_{r}^{2} - R_{c}^{2} R_{e}^{2} R_{i}^{2} - R_{c}^{2} R_{e}^{2} R_{o}^{2} μ_{r}^{2} + R_{c}^{2} R_{e}^{2} R_{o}^{2} - R_{c}^{2} R_{i}^{2} R_{o}^{2} μ_{r}^{2} - 2 R_{c}^{2} R_{i}^{2} R_{o}^{2} μ_{r} - R_{c}^{2} R_{i}^{2} R_{o}^{2} + R_{c}^{2} R_{o}^{4} μ_{r}^{2} - 2 R_{c}^{2} R_{o}^{4} μ_{r} + R_{c}^{2} R_{o}^{4} - R_{e}^{2} R_{i}^{4} μ_{r}^{2} + 2 R_{e}^{2} R_{i}^{4} μ_{r} - R_{e}^{2} R_{i}^{4} + R_{e}^{2} R_{i}^{2} R_{o}^{2} μ_{r}^{2} + 2 R_{e}^{2} R_{i}^{2} R_{o}^{2} μ_{r} + R_{e}^{2} R_{i}^{2} R_{o}^{2} + R_{i}^{4} R_{o}^{2} μ_{r}^{2} - R_{i}^{4} R_{o}^{2} - R_{i}^{2} R_{o}^{4} μ_{r}^{2} + R_{i}^{2} R_{o}^{4}}\\end{matrix}\\right]$"
      ],
      "text/plain": [
       "Matrix([\n",
       "[                                                                                                                                                                                                                                                                                                                                                                                                                                                                                                                                                                                                                                                                                                                                                                                                                                                                                         B_rem*R_i**2*(R_e**2*R_i**2*μ_r - R_e**2*R_i**2*μ_r*sin(p*θ)/sin(θ) - R_e**2*R_i**2 + R_e**2*R_i**2*sin(p*θ)/sin(θ) - R_e**2*R_o**2*μ_r + R_e**2*R_o**2*μ_r*sin(p*θ)/sin(θ) + R_e**2*R_o**2 - R_e**2*R_o**2*sin(p*θ)/sin(θ) - R_i**2*R_o**2*μ_r + R_i**2*R_o**2*μ_r*sin(p*θ)/sin(θ) - R_i**2*R_o**2 + R_i**2*R_o**2*sin(p*θ)/sin(θ) + R_o**4*μ_r - R_o**4*μ_r*sin(p*θ)/sin(θ) + R_o**4 - R_o**4*sin(p*θ)/sin(θ) + log(R_i**(2*R_o**2*(-R_e**2*μ_r - R_e**2 + R_o**2*μ_r - R_o**2))*R_o**(2*R_o**2*(R_e**2*μ_r + R_e**2 - R_o**2*μ_r + R_o**2))))/(R_c**2*R_e**2*R_i**2*μ_r**2 - R_c**2*R_e**2*R_i**2 - R_c**2*R_e**2*R_o**2*μ_r**2 + R_c**2*R_e**2*R_o**2 - R_c**2*R_i**2*R_o**2*μ_r**2 - 2*R_c**2*R_i**2*R_o**2*μ_r - R_c**2*R_i**2*R_o**2 + R_c**2*R_o**4*μ_r**2 - 2*R_c**2*R_o**4*μ_r + R_c**2*R_o**4 - R_e**2*R_i**4*μ_r**2 + 2*R_e**2*R_i**4*μ_r - R_e**2*R_i**4 + R_e**2*R_i**2*R_o**2*μ_r**2 + 2*R_e**2*R_i**2*R_o**2*μ_r + R_e**2*R_i**2*R_o**2 + R_i**4*R_o**2*μ_r**2 - R_i**4*R_o**2 - R_i**2*R_o**4*μ_r**2 + R_i**2*R_o**4)],\n",
       "[B_rem*(R_c**2*R_e**2*R_i**2*μ_r - R_c**2*R_e**2*R_i**2*μ_r*sin(p*θ)/sin(θ) - R_c**2*R_e**2*R_i**2 + R_c**2*R_e**2*R_i**2*sin(p*θ)/sin(θ) - R_c**2*R_e**2*R_o**2*μ_r + R_c**2*R_e**2*R_o**2*μ_r*sin(p*θ)/sin(θ) + R_c**2*R_e**2*R_o**2 - R_c**2*R_e**2*R_o**2*sin(p*θ)/sin(θ) - R_c**2*R_i**2*R_o**2*μ_r + R_c**2*R_i**2*R_o**2*μ_r*sin(p*θ)/sin(θ) - R_c**2*R_i**2*R_o**2 + R_c**2*R_i**2*R_o**2*sin(p*θ)/sin(θ) - R_c**2*R_o**4*μ_r + R_c**2*R_o**4*μ_r*sin(p*θ)/sin(θ) + R_c**2*R_o**4 - R_c**2*R_o**4*sin(p*θ)/sin(θ) + R_e**2*R_i**4*μ_r - R_e**2*R_i**4*μ_r*sin(p*θ)/sin(θ) - R_e**2*R_i**4 + R_e**2*R_i**4*sin(p*θ)/sin(θ) + R_e**2*R_i**2*R_o**2*μ_r - R_e**2*R_i**2*R_o**2*μ_r*sin(p*θ)/sin(θ) + R_e**2*R_i**2*R_o**2 - R_e**2*R_i**2*R_o**2*sin(p*θ)/sin(θ) - R_i**4*R_o**2*μ_r + R_i**4*R_o**2*μ_r*sin(p*θ)/sin(θ) - R_i**4*R_o**2 + R_i**4*R_o**2*sin(p*θ)/sin(θ) + R_i**2*R_o**4*μ_r - R_i**2*R_o**4*μ_r*sin(p*θ)/sin(θ) + R_i**2*R_o**4 - R_i**2*R_o**4*sin(p*θ)/sin(θ) + log(R_i**(R_i**2*(R_c**2*R_e**2*μ_r**2 - R_c**2*R_e**2 - R_c**2*R_o**2*μ_r**2 - 2*R_c**2*R_o**2*μ_r - R_c**2*R_o**2 - R_e**2*R_i**2*μ_r**2 + 2*R_e**2*R_i**2*μ_r - R_e**2*R_i**2 + R_i**2*R_o**2*μ_r**2 - R_i**2*R_o**2))*R_o**(R_o**2*(-R_c**2*R_e**2*μ_r**2 + R_c**2*R_e**2 + R_c**2*R_o**2*μ_r**2 - 2*R_c**2*R_o**2*μ_r + R_c**2*R_o**2 + R_e**2*R_i**2*μ_r**2 + 2*R_e**2*R_i**2*μ_r + R_e**2*R_i**2 - R_i**2*R_o**2*μ_r**2 + R_i**2*R_o**2))))/(R_c**2*R_e**2*R_i**2*μ_r**2 - R_c**2*R_e**2*R_i**2 - R_c**2*R_e**2*R_o**2*μ_r**2 + R_c**2*R_e**2*R_o**2 - R_c**2*R_i**2*R_o**2*μ_r**2 - 2*R_c**2*R_i**2*R_o**2*μ_r - R_c**2*R_i**2*R_o**2 + R_c**2*R_o**4*μ_r**2 - 2*R_c**2*R_o**4*μ_r + R_c**2*R_o**4 - R_e**2*R_i**4*μ_r**2 + 2*R_e**2*R_i**4*μ_r - R_e**2*R_i**4 + R_e**2*R_i**2*R_o**2*μ_r**2 + 2*R_e**2*R_i**2*R_o**2*μ_r + R_e**2*R_i**2*R_o**2 + R_i**4*R_o**2*μ_r**2 - R_i**4*R_o**2 - R_i**2*R_o**4*μ_r**2 + R_i**2*R_o**4)],\n",
       "[                                                                                                                                                                                                                                                                                                                                                                                                                                                                                                                                                                                                                                                                                                                                                                                                                                                                                         B_rem*R_o**2*(R_c**2*R_i**2*μ_r - R_c**2*R_i**2*μ_r*sin(p*θ)/sin(θ) - R_c**2*R_i**2 + R_c**2*R_i**2*sin(p*θ)/sin(θ) - R_c**2*R_o**2*μ_r + R_c**2*R_o**2*μ_r*sin(p*θ)/sin(θ) + R_c**2*R_o**2 - R_c**2*R_o**2*sin(p*θ)/sin(θ) - R_i**4*μ_r + R_i**4*μ_r*sin(p*θ)/sin(θ) - R_i**4 + R_i**4*sin(p*θ)/sin(θ) + R_i**2*R_o**2*μ_r - R_i**2*R_o**2*μ_r*sin(p*θ)/sin(θ) + R_i**2*R_o**2 - R_i**2*R_o**2*sin(p*θ)/sin(θ) + log(R_i**(2*R_i**2*(-R_c**2*μ_r - R_c**2 + R_i**2*μ_r - R_i**2))*R_o**(2*R_i**2*(R_c**2*μ_r + R_c**2 - R_i**2*μ_r + R_i**2))))/(R_c**2*R_e**2*R_i**2*μ_r**2 - R_c**2*R_e**2*R_i**2 - R_c**2*R_e**2*R_o**2*μ_r**2 + R_c**2*R_e**2*R_o**2 - R_c**2*R_i**2*R_o**2*μ_r**2 - 2*R_c**2*R_i**2*R_o**2*μ_r - R_c**2*R_i**2*R_o**2 + R_c**2*R_o**4*μ_r**2 - 2*R_c**2*R_o**4*μ_r + R_c**2*R_o**4 - R_e**2*R_i**4*μ_r**2 + 2*R_e**2*R_i**4*μ_r - R_e**2*R_i**4 + R_e**2*R_i**2*R_o**2*μ_r**2 + 2*R_e**2*R_i**2*R_o**2*μ_r + R_e**2*R_i**2*R_o**2 + R_i**4*R_o**2*μ_r**2 - R_i**4*R_o**2 - R_i**2*R_o**4*μ_r**2 + R_i**2*R_o**4)],\n",
       "[                                                                                                                                                                                                                                                                                                                                                                                                                                                                                                                                                                                                                                                                                                                                                                                                                                                                                  B_rem*R_c**2*R_i**2*(R_e**2*R_i**2*μ_r - R_e**2*R_i**2*μ_r*sin(p*θ)/sin(θ) - R_e**2*R_i**2 + R_e**2*R_i**2*sin(p*θ)/sin(θ) - R_e**2*R_o**2*μ_r + R_e**2*R_o**2*μ_r*sin(p*θ)/sin(θ) + R_e**2*R_o**2 - R_e**2*R_o**2*sin(p*θ)/sin(θ) - R_i**2*R_o**2*μ_r + R_i**2*R_o**2*μ_r*sin(p*θ)/sin(θ) - R_i**2*R_o**2 + R_i**2*R_o**2*sin(p*θ)/sin(θ) + R_o**4*μ_r - R_o**4*μ_r*sin(p*θ)/sin(θ) + R_o**4 - R_o**4*sin(p*θ)/sin(θ) + log(R_i**(2*R_o**2*(-R_e**2*μ_r - R_e**2 + R_o**2*μ_r - R_o**2))*R_o**(2*R_o**2*(R_e**2*μ_r + R_e**2 - R_o**2*μ_r + R_o**2))))/(R_c**2*R_e**2*R_i**2*μ_r**2 - R_c**2*R_e**2*R_i**2 - R_c**2*R_e**2*R_o**2*μ_r**2 + R_c**2*R_e**2*R_o**2 - R_c**2*R_i**2*R_o**2*μ_r**2 - 2*R_c**2*R_i**2*R_o**2*μ_r - R_c**2*R_i**2*R_o**2 + R_c**2*R_o**4*μ_r**2 - 2*R_c**2*R_o**4*μ_r + R_c**2*R_o**4 - R_e**2*R_i**4*μ_r**2 + 2*R_e**2*R_i**4*μ_r - R_e**2*R_i**4 + R_e**2*R_i**2*R_o**2*μ_r**2 + 2*R_e**2*R_i**2*R_o**2*μ_r + R_e**2*R_i**2*R_o**2 + R_i**4*R_o**2*μ_r**2 - R_i**4*R_o**2 - R_i**2*R_o**4*μ_r**2 + R_i**2*R_o**4)],\n",
       "[                                                                                                                                                                                                                                                                                                                                                                                                                                                                                                                                                                                                                                                                                                                                                                                                                                                            B_rem*R_i**2*R_o**2*(2*R_c**2*R_o**2*μ_r - 2*R_c**2*R_o**2*μ_r*sin(p*θ)/sin(θ) - 2*R_e**2*R_i**2*μ_r + 2*R_e**2*R_i**2*μ_r*sin(p*θ)/sin(θ) + log(R_i**(-R_c**2*R_e**2*μ_r**2 - 2*R_c**2*R_e**2*μ_r - R_c**2*R_e**2 + R_c**2*R_o**2*μ_r**2 - R_c**2*R_o**2 + R_e**2*R_i**2*μ_r**2 - R_e**2*R_i**2 - R_i**2*R_o**2*μ_r**2 + 2*R_i**2*R_o**2*μ_r - R_i**2*R_o**2)*R_o**(R_c**2*R_e**2*μ_r**2 + 2*R_c**2*R_e**2*μ_r + R_c**2*R_e**2 - R_c**2*R_o**2*μ_r**2 + R_c**2*R_o**2 - R_e**2*R_i**2*μ_r**2 + R_e**2*R_i**2 + R_i**2*R_o**2*μ_r**2 - 2*R_i**2*R_o**2*μ_r + R_i**2*R_o**2)))/(R_c**2*R_e**2*R_i**2*μ_r**2 - R_c**2*R_e**2*R_i**2 - R_c**2*R_e**2*R_o**2*μ_r**2 + R_c**2*R_e**2*R_o**2 - R_c**2*R_i**2*R_o**2*μ_r**2 - 2*R_c**2*R_i**2*R_o**2*μ_r - R_c**2*R_i**2*R_o**2 + R_c**2*R_o**4*μ_r**2 - 2*R_c**2*R_o**4*μ_r + R_c**2*R_o**4 - R_e**2*R_i**4*μ_r**2 + 2*R_e**2*R_i**4*μ_r - R_e**2*R_i**4 + R_e**2*R_i**2*R_o**2*μ_r**2 + 2*R_e**2*R_i**2*R_o**2*μ_r + R_e**2*R_i**2*R_o**2 + R_i**4*R_o**2*μ_r**2 - R_i**4*R_o**2 - R_i**2*R_o**4*μ_r**2 + R_i**2*R_o**4)],\n",
       "[                                                                                                                                                                                                                                                                                                                                                                                                                                                                                                                                                                                                                                                                                                                                                                                                                                                                                  B_rem*R_e**2*R_o**2*(R_c**2*R_i**2*μ_r - R_c**2*R_i**2*μ_r*sin(p*θ)/sin(θ) - R_c**2*R_i**2 + R_c**2*R_i**2*sin(p*θ)/sin(θ) - R_c**2*R_o**2*μ_r + R_c**2*R_o**2*μ_r*sin(p*θ)/sin(θ) + R_c**2*R_o**2 - R_c**2*R_o**2*sin(p*θ)/sin(θ) - R_i**4*μ_r + R_i**4*μ_r*sin(p*θ)/sin(θ) - R_i**4 + R_i**4*sin(p*θ)/sin(θ) + R_i**2*R_o**2*μ_r - R_i**2*R_o**2*μ_r*sin(p*θ)/sin(θ) + R_i**2*R_o**2 - R_i**2*R_o**2*sin(p*θ)/sin(θ) + log(R_i**(2*R_i**2*(-R_c**2*μ_r - R_c**2 + R_i**2*μ_r - R_i**2))*R_o**(2*R_i**2*(R_c**2*μ_r + R_c**2 - R_i**2*μ_r + R_i**2))))/(R_c**2*R_e**2*R_i**2*μ_r**2 - R_c**2*R_e**2*R_i**2 - R_c**2*R_e**2*R_o**2*μ_r**2 + R_c**2*R_e**2*R_o**2 - R_c**2*R_i**2*R_o**2*μ_r**2 - 2*R_c**2*R_i**2*R_o**2*μ_r - R_c**2*R_i**2*R_o**2 + R_c**2*R_o**4*μ_r**2 - 2*R_c**2*R_o**4*μ_r + R_c**2*R_o**4 - R_e**2*R_i**4*μ_r**2 + 2*R_e**2*R_i**4*μ_r - R_e**2*R_i**4 + R_e**2*R_i**2*R_o**2*μ_r**2 + 2*R_e**2*R_i**2*R_o**2*μ_r + R_e**2*R_i**2*R_o**2 + R_i**4*R_o**2*μ_r**2 - R_i**4*R_o**2 - R_i**2*R_o**4*μ_r**2 + R_i**2*R_o**4)]])"
      ]
     },
     "execution_count": 3,
     "metadata": {},
     "output_type": "execute_result"
    }
   ],
   "source": [
    "solution"
   ]
  },
  {
   "cell_type": "code",
   "execution_count": 4,
   "metadata": {},
   "outputs": [],
   "source": [
    "a = (R_e**2-R_o**2)/(R_e**2+R_o**2)\n",
    "b = -(R_i**2-R_c**2)/(R_i**2+R_c**2)\n",
    "\n",
    "D_II = -((a*μ_r-1)/(a*μ_r+1) * R_o**(-2) - (b*μ_r-1)/(b*μ_r+1) * R_i**(-2))**(-1) * B_rem * ln(R_i/R_o)\n",
    "C_I = D_II / (R_i**2 + R_c**2) * (1 - (b*μ_r-1)/(b*μ_r+1))\n",
    "D_I = C_I * R_c**2\n",
    "C_II = - D_II * (a*μ_r-1)/(a*μ_r+1) * R_o**(-2) + B_rem * ln(R_o)\n",
    "C_III = D_II / (R_o**2 + R_e**2) * (1 - (a*μ_r-1)/(a*μ_r+1))\n",
    "D_III = C_III * R_e**2"
   ]
  },
  {
   "cell_type": "code",
   "execution_count": 5,
   "metadata": {},
   "outputs": [
    {
     "data": {
      "text/latex": [
       "$\\displaystyle 0$"
      ],
      "text/plain": [
       "0"
      ]
     },
     "metadata": {},
     "output_type": "display_data"
    },
    {
     "data": {
      "text/latex": [
       "$\\displaystyle 0$"
      ],
      "text/plain": [
       "0"
      ]
     },
     "metadata": {},
     "output_type": "display_data"
    },
    {
     "data": {
      "text/latex": [
       "$\\displaystyle 0$"
      ],
      "text/plain": [
       "0"
      ]
     },
     "metadata": {},
     "output_type": "display_data"
    },
    {
     "data": {
      "text/latex": [
       "$\\displaystyle 0$"
      ],
      "text/plain": [
       "0"
      ]
     },
     "metadata": {},
     "output_type": "display_data"
    },
    {
     "data": {
      "text/latex": [
       "$\\displaystyle 0$"
      ],
      "text/plain": [
       "0"
      ]
     },
     "metadata": {},
     "output_type": "display_data"
    },
    {
     "data": {
      "text/latex": [
       "$\\displaystyle 0$"
      ],
      "text/plain": [
       "0"
      ]
     },
     "metadata": {},
     "output_type": "display_data"
    }
   ],
   "source": [
    "display(simplify(C_I - solution[0].subs(p, 1)))\n",
    "display(simplify(C_II - solution[1].subs(p, 1)))\n",
    "display(simplify(C_III - solution[2].subs(p, 1)))\n",
    "display(simplify(D_I - solution[3].subs(p, 1)))\n",
    "display(simplify(D_II - solution[4].subs(p, 1)))\n",
    "display(simplify(D_III - solution[5].subs(p, 1)))"
   ]
  }
 ],
 "metadata": {
  "kernelspec": {
   "display_name": "Python 3",
   "language": "python",
   "name": "python3"
  },
  "language_info": {
   "codemirror_mode": {
    "name": "ipython",
    "version": 3
   },
   "file_extension": ".py",
   "mimetype": "text/x-python",
   "name": "python",
   "nbconvert_exporter": "python",
   "pygments_lexer": "ipython3",
   "version": "3.11.6"
  }
 },
 "nbformat": 4,
 "nbformat_minor": 2
}
