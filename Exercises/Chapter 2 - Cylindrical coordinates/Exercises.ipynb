{
 "cells": [
  {
   "cell_type": "markdown",
   "metadata": {},
   "source": [
    "# Chapter 2 - Cylindrical coordinates"
   ]
  },
  {
   "cell_type": "markdown",
   "metadata": {},
   "source": [
    "### Exercise 1"
   ]
  },
  {
   "cell_type": "markdown",
   "metadata": {},
   "source": [
    "$r = \\begin{bmatrix} x \\\\ y \\\\ z\\end{bmatrix}$\n",
    "\n",
    "$|r| = \\sqrt{x^2+y^2+z^2}$\n",
    "\n",
    "$ e_r = \\frac{r}{|r|} = \\frac{1}{\\sqrt{x^2+y^2+z^2}}\\begin{bmatrix} x \\\\ y \\\\ z\\end{bmatrix} = \\frac{1}{\\sqrt{x^2+y^2}}\\begin{bmatrix} x \\\\ y \\\\ 0\\end{bmatrix}$\n",
    "\n",
    "$ e_{\\theta} = \\begin{bmatrix} 0 & -1 & 0 \\\\ 1 & 0 & 0 \\\\ 0 & 0 & 1 \\end{bmatrix}  \\cdot e_r = \\frac{1}{\\sqrt{x^2+y^2}}\\begin{bmatrix} -y \\\\ x \\\\ 0\\end{bmatrix} $\n",
    "\n",
    "$e_{z} = \\begin{bmatrix} 0 \\\\ 0 \\\\ z\\end{bmatrix}$"
   ]
  },
  {
   "cell_type": "code",
   "execution_count": 2,
   "metadata": {},
   "outputs": [
    {
     "data": {
      "text/latex": [
       "$\\displaystyle \\left[\\begin{matrix}\\frac{x}{\\sqrt{\\left|{x}\\right|^{2} + \\left|{y}\\right|^{2}}}\\\\\\frac{y}{\\sqrt{\\left|{x}\\right|^{2} + \\left|{y}\\right|^{2}}}\\\\0\\end{matrix}\\right]$"
      ],
      "text/plain": [
       "Matrix([\n",
       "[x/sqrt(Abs(x)**2 + Abs(y)**2)],\n",
       "[y/sqrt(Abs(x)**2 + Abs(y)**2)],\n",
       "[                            0]])"
      ]
     },
     "execution_count": 2,
     "metadata": {},
     "output_type": "execute_result"
    }
   ],
   "source": [
    "from sympy import *\n",
    "x,y,z = symbols('x y z')\n",
    "r = Matrix([x,y,z])\n",
    "e_r = r/r.norm()\n",
    "e_r.subs({z:0})"
   ]
  },
  {
   "cell_type": "code",
   "execution_count": 5,
   "metadata": {},
   "outputs": [
    {
     "data": {
      "text/latex": [
       "$\\displaystyle \\left[\\begin{matrix}- \\frac{y}{\\sqrt{\\left|{x}\\right|^{2} + \\left|{y}\\right|^{2} + \\left|{z}\\right|^{2}}}\\\\\\frac{y}{\\sqrt{\\left|{x}\\right|^{2} + \\left|{y}\\right|^{2} + \\left|{z}\\right|^{2}}}\\\\0\\end{matrix}\\right]$"
      ],
      "text/plain": [
       "Matrix([\n",
       "[-y/sqrt(Abs(x)**2 + Abs(y)**2 + Abs(z)**2)],\n",
       "[ y/sqrt(Abs(x)**2 + Abs(y)**2 + Abs(z)**2)],\n",
       "[                                         0]])"
      ]
     },
     "execution_count": 5,
     "metadata": {},
     "output_type": "execute_result"
    }
   ],
   "source": [
    "e_theta = Matrix([-e_r[1],e_r[1],0])\n",
    "e_theta"
   ]
  },
  {
   "cell_type": "markdown",
   "metadata": {},
   "source": [
    "### Exercise 2"
   ]
  },
  {
   "cell_type": "code",
   "execution_count": null,
   "metadata": {},
   "outputs": [],
   "source": []
  },
  {
   "cell_type": "markdown",
   "metadata": {},
   "source": [
    "### Exercise 3"
   ]
  },
  {
   "cell_type": "code",
   "execution_count": null,
   "metadata": {},
   "outputs": [],
   "source": []
  },
  {
   "cell_type": "markdown",
   "metadata": {},
   "source": [
    "### Exercise 4"
   ]
  },
  {
   "cell_type": "code",
   "execution_count": null,
   "metadata": {},
   "outputs": [],
   "source": []
  },
  {
   "cell_type": "markdown",
   "metadata": {},
   "source": [
    "### Exercise 5"
   ]
  },
  {
   "cell_type": "code",
   "execution_count": null,
   "metadata": {},
   "outputs": [],
   "source": []
  },
  {
   "cell_type": "markdown",
   "metadata": {},
   "source": [
    "### Exercise 6"
   ]
  },
  {
   "cell_type": "code",
   "execution_count": null,
   "metadata": {},
   "outputs": [],
   "source": []
  },
  {
   "cell_type": "markdown",
   "metadata": {},
   "source": [
    "### Exercise 7"
   ]
  },
  {
   "cell_type": "code",
   "execution_count": null,
   "metadata": {},
   "outputs": [],
   "source": []
  },
  {
   "cell_type": "markdown",
   "metadata": {},
   "source": [
    "### Exercise 8"
   ]
  },
  {
   "cell_type": "code",
   "execution_count": null,
   "metadata": {},
   "outputs": [],
   "source": []
  }
 ],
 "metadata": {
  "kernelspec": {
   "display_name": "Python 3",
   "language": "python",
   "name": "python3"
  },
  "language_info": {
   "codemirror_mode": {
    "name": "ipython",
    "version": 3
   },
   "file_extension": ".py",
   "mimetype": "text/x-python",
   "name": "python",
   "nbconvert_exporter": "python",
   "pygments_lexer": "ipython3",
   "version": "3.10.10"
  }
 },
 "nbformat": 4,
 "nbformat_minor": 2
}
